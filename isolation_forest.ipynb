{
 "cells": [
  {
   "cell_type": "code",
   "execution_count": 1,
   "metadata": {},
   "outputs": [],
   "source": [
    "import numpy as np\n",
    "import pandas as pd\n",
    "import numpy as np\n",
    "import matplotlib.pyplot as plt\n",
    "from matplotlib.colors import to_hex\n",
    "import seaborn as sns\n",
    "import matplotlib\n",
    "import graphviz \n",
    "from sklearn import __version__ as sklearn_version"
   ]
  },
  {
   "cell_type": "code",
   "execution_count": 2,
   "metadata": {},
   "outputs": [
    {
     "name": "stdout",
     "output_type": "stream",
     "text": [
      "1.0.5\n",
      "0.23.1\n"
     ]
    }
   ],
   "source": [
    "print(pd.__version__)\n",
    "print(sklearn_version)"
   ]
  },
  {
   "cell_type": "code",
   "execution_count": 3,
   "metadata": {},
   "outputs": [],
   "source": [
    "df = pd.read_excel(\"data/Superstore.xls\")"
   ]
  },
  {
   "cell_type": "code",
   "execution_count": 4,
   "metadata": {},
   "outputs": [
    {
     "data": {
      "image/png": "[encoded data removed]",
      "text/plain": [
       "<Figure size 432x288 with 1 Axes>"
      ]
     },
     "metadata": {
      "needs_background": "light"
     },
     "output_type": "display_data"
    }
   ],
   "source": [
    "sns.regplot(x=\"Sales\", y=\"Profit\", data=df)\n",
    "sns.despine()"
   ]
  },
  {
   "cell_type": "code",
   "execution_count": 5,
   "metadata": {},
   "outputs": [],
   "source": [
    "n_points = df.shape[0]\n",
    "n_features = 2\n",
    "x1=df['Sales'].values\n",
    "x2=df['Profit'].values\n",
    "x1 = x1 - x1.min()\n",
    "x1 = x1/x1.max()\n",
    "\n",
    "x2 = x2 - x2.min()\n",
    "x2 = x2 / x2.max()\n",
    "\n",
    "X=[[a,b] for (a,b) in zip(x1, x2)]\n",
    "X=np.array(X)"
   ]
  },
  {
   "cell_type": "code",
   "execution_count": null,
   "metadata": {},
   "outputs": [],
   "source": []
  },
  {
   "cell_type": "markdown",
   "metadata": {},
   "source": [
    "# Isolation Tree"
   ]
  },
  {
   "cell_type": "code",
   "execution_count": 6,
   "metadata": {},
   "outputs": [],
   "source": [
    "class Branch:\n",
    "    no = 0\n",
    "    depth = 1\n",
    "    n_samples = 0\n",
    "    split_feature_index = 0\n",
    "    split_feature_value = 0\n",
    "\n",
    "    left_branch = None\n",
    "    right_branch = None\n",
    "    isolated=False\n",
    "    \n",
    "    def __init__(self):\n",
    "        self.n_samples=-1\n",
    "    \n",
    "    def is_leaf(self):\n",
    "        return self.left_branch is None and self.right_branch is None"
   ]
  },
  {
   "cell_type": "code",
   "execution_count": 7,
   "metadata": {},
   "outputs": [],
   "source": [
    "class IsolationTree():\n",
    "    number=0\n",
    "    max_depth=0\n",
    "    tree=None\n",
    "    \n",
    "    def __init__(self,max_depth=3):\n",
    "        self.number=0\n",
    "        self.max_depth=max_depth\n",
    "        \n",
    "    def find_random_split(self, data):\n",
    "        split_feature_index=int(np.random.random()*n_features)\n",
    "        feature_values = data[:,split_feature_index]\n",
    "        feature_min=feature_values.min()\n",
    "        feature_max=feature_values.max()\n",
    "        split_feature_value = feature_min+(feature_max-feature_min)*np.random.random()\n",
    "        condition = feature_values <= split_feature_value\n",
    "\n",
    "        left_data= data[condition,:]\n",
    "        right_data = data[~condition,:]\n",
    "        return split_feature_index, split_feature_value, right_data, left_data\n",
    "\n",
    "    def decision_tree_inner(self, data, depth):\n",
    "        branch = Branch()\n",
    "        branch.no=self.number\n",
    "        self.number=self.number+1\n",
    "        branch.depth=depth\n",
    "\n",
    "        branch.n_samples=data.shape[0]\n",
    "\n",
    "        if branch.n_samples<2:\n",
    "            \n",
    "            branch.isolated=True\n",
    "            return branch\n",
    "\n",
    "\n",
    "        split_feature_index, split_feature_value, right_data, left_data = self.find_random_split(data)\n",
    "        branch.split_feature_value=split_feature_value\n",
    "        branch.split_feature_index=split_feature_index\n",
    "\n",
    "        if depth==self.max_depth-1:\n",
    "            # left\n",
    "            left_branch=Branch()\n",
    "            left_branch.no=self.number\n",
    "            self.number=self.number+1\n",
    "            left_branch.n_samples=left_data.shape[0]\n",
    "            branch.left_branch=left_branch\n",
    "\n",
    "            # right\n",
    "            right_branch=Branch()\n",
    "            right_branch.no=self.number\n",
    "            self.number=self.number+1\n",
    "            right_branch.n_samples=right_data.shape[0]\n",
    "            branch.right_branch=right_branch\n",
    "            return branch\n",
    "        else:\n",
    "            branch.left_branch=self.decision_tree_inner(left_data, depth+1)\n",
    "            branch.right_branch=self.decision_tree_inner(right_data, depth+1)\n",
    "            return branch\n",
    "\n",
    "    def fit(self, X):\n",
    "        self.number=0\n",
    "        tree=self.decision_tree_inner(X, 0)\n",
    "        self.tree=tree\n",
    "        return tree\n",
    "    \n",
    "    def predict_one_inner(self, x, branch, length):\n",
    "        \n",
    "        if branch.is_leaf():\n",
    "            return length\n",
    "        \n",
    "        length=length+1\n",
    "        \n",
    "        if x[branch.split_feature_index]<=branch.split_feature_value:\n",
    "            # left branch\n",
    "            return self.predict_one_inner(x, branch.left_branch, length)\n",
    "        else:\n",
    "            # right branch\n",
    "            return self.predict_one_inner(x, branch.right_branch, length)\n",
    "        \n",
    "    def predict_one(self, x):\n",
    "        return self.predict_one_inner(x, self.tree, 0)\n",
    "    \n",
    "    def predict(self, X):\n",
    "        ys=[]\n",
    "        for i in range(X.shape[0]):\n",
    "            x=X[i]\n",
    "            y=self.predict_one(x)\n",
    "            ys.append(y)\n",
    "        return np.array(ys)"
   ]
  },
  {
   "cell_type": "code",
   "execution_count": 53,
   "metadata": {},
   "outputs": [],
   "source": [
    "class IsolationTreePainter2D():\n",
    "    branch_colors=[]\n",
    "    tab10_colors = plt.get_cmap('tab10')(np.arange(10, dtype=int))\n",
    "    color_dict={}\n",
    "    \n",
    "    def __init__(self):\n",
    "        self.branch_colors=[]\n",
    "        self.color_dict={}\n",
    "    \n",
    "    \n",
    "    def _draw_split(self, branch, x_limit=[0,1], y_limit=[0,1]):\n",
    "        self.branch_colors.append(branch.no)\n",
    "\n",
    "        si = branch.split_feature_index\n",
    "        sv = branch.split_feature_value\n",
    "\n",
    "        if si==0:\n",
    "            plt.plot([sv, sv], y_limit, c=self.tab10_colors[len(self.branch_colors)-1 % 10])\n",
    "            plt.annotate(str(branch.no), [sv, np.mean(y_limit)])\n",
    "        else:\n",
    "            plt.plot(x_limit, [sv, sv], c=self.tab10_colors[len(self.branch_colors)-1 % 10])\n",
    "            plt.annotate(str(branch.no), [np.mean(x_limit), sv])\n",
    "\n",
    "        if branch.left_branch is not None:\n",
    "            if branch.left_branch.is_leaf():\n",
    "                return\n",
    "            if branch.split_feature_index==0:\n",
    "                new_x_limit=[x_limit[0], sv]\n",
    "                self._draw_split(branch.left_branch, new_x_limit, y_limit)\n",
    "            else:\n",
    "                new_y_limit=[y_limit[0], sv]\n",
    "                self._draw_split(branch.left_branch, x_limit, new_y_limit)\n",
    "\n",
    "        if branch.right_branch is not None:\n",
    "            if branch.right_branch.is_leaf():\n",
    "                return\n",
    "            if branch.split_feature_index==0:\n",
    "                new_x_limit=[sv, x_limit[1]]\n",
    "                self._draw_split(branch.right_branch, new_x_limit, y_limit)\n",
    "            else:\n",
    "                new_y_limit=[sv, y_limit[1]]\n",
    "                self._draw_split(branch.right_branch, x_limit, new_y_limit)\n",
    "\n",
    "    def draw_split(self, branch):\n",
    "        self.branch_colors=[]\n",
    "        self._draw_split(branch, x_limit=[0,1], y_limit=[0,1])\n",
    "        for i in range(len(self.branch_colors)):\n",
    "            self.color_dict[self.branch_colors[i]]=self.tab10_colors[i]\n",
    "    \n",
    "    def get_dot_data_innner(self, branch:Branch, dot_data):\n",
    "\n",
    "        if branch.isolated:\n",
    "            dot_data=dot_data+f'{branch.no} [label=\\\"{branch.no}\\\\nsamples = {branch.n_samples}\\\\nIsolated :(\\\" , fillcolor=\"#FFFF3333\"];\\n'\n",
    "        elif branch.is_leaf():\n",
    "            dot_data=dot_data+f'{branch.no} [label=\\\"{branch.no}\\\\nsamples = {branch.n_samples}\\\" , fillcolor=\"#FFFFFFFF\"];\\n'  \n",
    "        elif branch.no in self.branch_colors:\n",
    "            hex_color = to_hex(self.color_dict[branch.no], keep_alpha=True)\n",
    "            dot_data=dot_data+f'{branch.no} [label=\\\"{branch.no}\\\\n{branch.split_feature_index}<={branch.split_feature_value:0.2f}\\\\nsamples = {branch.n_samples}\\\" , fillcolor=\"{hex_color}\"];\\n'\n",
    "        else:\n",
    "            dot_data=dot_data+f'{branch.no} [label=\\\"{branch.no}\\\\n{branch.split_feature_index}<={branch.split_feature_value:0.2f}\\\\nsamples = {branch.n_samples}\\\" , fillcolor=\"#FFFFFFFF\"];\\n'\n",
    "\n",
    "        if branch.left_branch:\n",
    "            dot_data=dot_data+f'{branch.no} -> {branch.left_branch.no} [labeldistance=2.5, labelangle=45, headlabel=\"yes\"];\\n'\n",
    "            dot_data=self.get_dot_data_innner(branch.left_branch, dot_data)\n",
    "\n",
    "        if branch.right_branch:\n",
    "            dot_data=dot_data+f'{branch.no} -> {branch.right_branch.no} [labeldistance=2.5, labelangle=-45, headlabel=\"no\"];\\n'\n",
    "            dot_data=self.get_dot_data_innner(branch.right_branch, dot_data)\n",
    "\n",
    "        return dot_data\n",
    "\n",
    "    def get_tree_dot_data(self, i_tree):\n",
    "        dot_data=\"\"\"\n",
    "    digraph Tree {\n",
    "    node [shape=box, style=\"filled, rounded\", color=\"black\", fontname=helvetica];\n",
    "    edge [fontname=helvetica] ;\n",
    "    \"\"\"\n",
    "        dot_data=self.get_dot_data_innner(i_tree.tree,  dot_data)\n",
    "        dot_data=dot_data+'\\r\\n}'\n",
    "        return dot_data"
   ]
  },
  {
   "cell_type": "code",
   "execution_count": 40,
   "metadata": {},
   "outputs": [
    {
     "data": {
      "image/png": "[encoded data removed]",
      "text/plain": [
       "<Figure size 432x288 with 1 Axes>"
      ]
     },
     "metadata": {
      "needs_background": "light"
     },
     "output_type": "display_data"
    }
   ],
   "source": [
    "mask = np.random.choice([False, True], X.shape[0], p=[1-256/n_points, 256/n_points])\n",
    "\n",
    "X_sub = X[mask,:]\n",
    "plt.scatter(X_sub[:,0], X_sub[:,1])\n",
    "plt.xlim([0,1])\n",
    "plt.ylim([0,1])\n",
    "plt.show()"
   ]
  },
  {
   "cell_type": "code",
   "execution_count": 41,
   "metadata": {},
   "outputs": [
    {
     "data": {
      "text/plain": [
       "227"
      ]
     },
     "execution_count": 41,
     "metadata": {},
     "output_type": "execute_result"
    }
   ],
   "source": [
    "X_sub.shape[0]"
   ]
  },
  {
   "cell_type": "code",
   "execution_count": null,
   "metadata": {},
   "outputs": [],
   "source": []
  },
  {
   "cell_type": "code",
   "execution_count": 60,
   "metadata": {
    "scrolled": false
   },
   "outputs": [
    {
     "data": {
      "image/svg+xml": [
       "<?xml version=\"1.0\" encoding=\"UTF-8\" standalone=\"no\"?>\r\n",
       "<!DOCTYPE svg PUBLIC \"-//W3C//DTD SVG 1.1//EN\"\r\n",
       " \"http://www.w3.org/Graphics/SVG/1.1/DTD/svg11.dtd\">\r\n",
       "<!-- Generated by graphviz version 2.38.0 (20140413.2041)\r\n",
       " -->\r\n",
       "<!-- Title: Tree Pages: 1 -->\r\n",
       "<svg width=\"641pt\" height=\"402pt\"\r\n",
       " viewBox=\"0.00 0.00 641.00 402.00\" xmlns=\"http://www.w3.org/2000/svg\" xmlns:xlink=\"http://www.w3.org/1999/xlink\">\r\n",
       "<g id=\"graph0\" class=\"graph\" transform=\"scale(1 1) rotate(0) translate(4 398)\">\r\n",
       "<title>Tree</title>\r\n",
       "<polygon fill=\"white\" stroke=\"none\" points=\"-4,4 -4,-398 637,-398 637,4 -4,4\"/>\r\n",
       "<!-- 0 -->\r\n",
       "<g id=\"node1\" class=\"node\"><title>0</title>\r\n",
       "<path fill=\"#1f77b4\" stroke=\"black\" d=\"M457,-394C457,-394 370,-394 370,-394 364,-394 358,-388 358,-382 358,-382 358,-353 358,-353 358,-347 364,-341 370,-341 370,-341 457,-341 457,-341 463,-341 469,-347 469,-353 469,-353 469,-382 469,-382 469,-388 463,-394 457,-394\"/>\r\n",
       "<text text-anchor=\"middle\" x=\"413.5\" y=\"-378.8\" font-family=\"Helvetica,sans-Serif\" font-size=\"14.00\">0</text>\r\n",
       "<text text-anchor=\"middle\" x=\"413.5\" y=\"-363.8\" font-family=\"Helvetica,sans-Serif\" font-size=\"14.00\">0&lt;=0.35</text>\r\n",
       "<text text-anchor=\"middle\" x=\"413.5\" y=\"-348.8\" font-family=\"Helvetica,sans-Serif\" font-size=\"14.00\">samples = 227</text>\r\n",
       "</g>\r\n",
       "<!-- 1 -->\r\n",
       "<g id=\"node2\" class=\"node\"><title>1</title>\r\n",
       "<path fill=\"#ff7f0e\" stroke=\"black\" d=\"M397,-305C397,-305 310,-305 310,-305 304,-305 298,-299 298,-293 298,-293 298,-264 298,-264 298,-258 304,-252 310,-252 310,-252 397,-252 397,-252 403,-252 409,-258 409,-264 409,-264 409,-293 409,-293 409,-299 403,-305 397,-305\"/>\r\n",
       "<text text-anchor=\"middle\" x=\"353.5\" y=\"-289.8\" font-family=\"Helvetica,sans-Serif\" font-size=\"14.00\">1</text>\r\n",
       "<text text-anchor=\"middle\" x=\"353.5\" y=\"-274.8\" font-family=\"Helvetica,sans-Serif\" font-size=\"14.00\">1&lt;=0.51</text>\r\n",
       "<text text-anchor=\"middle\" x=\"353.5\" y=\"-259.8\" font-family=\"Helvetica,sans-Serif\" font-size=\"14.00\">samples = 225</text>\r\n",
       "</g>\r\n",
       "<!-- 0&#45;&gt;1 -->\r\n",
       "<g id=\"edge1\" class=\"edge\"><title>0&#45;&gt;1</title>\r\n",
       "<path fill=\"none\" stroke=\"black\" d=\"M395.823,-340.868C389.955,-332.359 383.326,-322.747 377.085,-313.698\"/>\r\n",
       "<polygon fill=\"black\" stroke=\"black\" points=\"379.817,-311.495 371.258,-305.25 374.055,-315.469 379.817,-311.495\"/>\r\n",
       "<text text-anchor=\"middle\" x=\"366.742\" y=\"-326.138\" font-family=\"Helvetica,sans-Serif\" font-size=\"14.00\">yes</text>\r\n",
       "</g>\r\n",
       "<!-- 10 -->\r\n",
       "<g id=\"node11\" class=\"node\"><title>10</title>\r\n",
       "<path fill=\"#8c564b\" stroke=\"black\" d=\"M510,-305C510,-305 439,-305 439,-305 433,-305 427,-299 427,-293 427,-293 427,-264 427,-264 427,-258 433,-252 439,-252 439,-252 510,-252 510,-252 516,-252 522,-258 522,-264 522,-264 522,-293 522,-293 522,-299 516,-305 510,-305\"/>\r\n",
       "<text text-anchor=\"middle\" x=\"474.5\" y=\"-289.8\" font-family=\"Helvetica,sans-Serif\" font-size=\"14.00\">10</text>\r\n",
       "<text text-anchor=\"middle\" x=\"474.5\" y=\"-274.8\" font-family=\"Helvetica,sans-Serif\" font-size=\"14.00\">0&lt;=0.66</text>\r\n",
       "<text text-anchor=\"middle\" x=\"474.5\" y=\"-259.8\" font-family=\"Helvetica,sans-Serif\" font-size=\"14.00\">samples = 2</text>\r\n",
       "</g>\r\n",
       "<!-- 0&#45;&gt;10 -->\r\n",
       "<g id=\"edge10\" class=\"edge\"><title>0&#45;&gt;10</title>\r\n",
       "<path fill=\"none\" stroke=\"black\" d=\"M431.472,-340.868C437.438,-332.359 444.177,-322.747 450.522,-313.698\"/>\r\n",
       "<polygon fill=\"black\" stroke=\"black\" points=\"453.57,-315.447 456.446,-305.25 447.839,-311.428 453.57,-315.447\"/>\r\n",
       "<text text-anchor=\"middle\" x=\"460.771\" y=\"-326.173\" font-family=\"Helvetica,sans-Serif\" font-size=\"14.00\">no</text>\r\n",
       "</g>\r\n",
       "<!-- 2 -->\r\n",
       "<g id=\"node3\" class=\"node\"><title>2</title>\r\n",
       "<path fill=\"#2ca02c\" stroke=\"black\" d=\"M278,-216C278,-216 191,-216 191,-216 185,-216 179,-210 179,-204 179,-204 179,-175 179,-175 179,-169 185,-163 191,-163 191,-163 278,-163 278,-163 284,-163 290,-169 290,-175 290,-175 290,-204 290,-204 290,-210 284,-216 278,-216\"/>\r\n",
       "<text text-anchor=\"middle\" x=\"234.5\" y=\"-200.8\" font-family=\"Helvetica,sans-Serif\" font-size=\"14.00\">2</text>\r\n",
       "<text text-anchor=\"middle\" x=\"234.5\" y=\"-185.8\" font-family=\"Helvetica,sans-Serif\" font-size=\"14.00\">0&lt;=0.12</text>\r\n",
       "<text text-anchor=\"middle\" x=\"234.5\" y=\"-170.8\" font-family=\"Helvetica,sans-Serif\" font-size=\"14.00\">samples = 224</text>\r\n",
       "</g>\r\n",
       "<!-- 1&#45;&gt;2 -->\r\n",
       "<g id=\"edge2\" class=\"edge\"><title>1&#45;&gt;2</title>\r\n",
       "<path fill=\"none\" stroke=\"black\" d=\"M318.44,-251.868C305.722,-242.57 291.201,-231.954 277.854,-222.196\"/>\r\n",
       "<polygon fill=\"black\" stroke=\"black\" points=\"279.859,-219.326 269.721,-216.25 275.728,-224.977 279.859,-219.326\"/>\r\n",
       "<text text-anchor=\"middle\" x=\"273.558\" y=\"-237.253\" font-family=\"Helvetica,sans-Serif\" font-size=\"14.00\">yes</text>\r\n",
       "</g>\r\n",
       "<!-- 9 -->\r\n",
       "<g id=\"node10\" class=\"node\"><title>9</title>\r\n",
       "<path fill=\"#ffff33\" fill-opacity=\"0.200000\" stroke=\"black\" d=\"M391,-216C391,-216 320,-216 320,-216 314,-216 308,-210 308,-204 308,-204 308,-175 308,-175 308,-169 314,-163 320,-163 320,-163 391,-163 391,-163 397,-163 403,-169 403,-175 403,-175 403,-204 403,-204 403,-210 397,-216 391,-216\"/>\r\n",
       "<text text-anchor=\"middle\" x=\"355.5\" y=\"-200.8\" font-family=\"Helvetica,sans-Serif\" font-size=\"14.00\">9</text>\r\n",
       "<text text-anchor=\"middle\" x=\"355.5\" y=\"-185.8\" font-family=\"Helvetica,sans-Serif\" font-size=\"14.00\">samples = 1</text>\r\n",
       "<text text-anchor=\"middle\" x=\"355.5\" y=\"-170.8\" font-family=\"Helvetica,sans-Serif\" font-size=\"14.00\">Isolated :(</text>\r\n",
       "</g>\r\n",
       "<!-- 1&#45;&gt;9 -->\r\n",
       "<g id=\"edge9\" class=\"edge\"><title>1&#45;&gt;9</title>\r\n",
       "<path fill=\"none\" stroke=\"black\" d=\"M354.089,-251.868C354.273,-243.886 354.479,-234.932 354.675,-226.384\"/>\r\n",
       "<polygon fill=\"black\" stroke=\"black\" points=\"358.177,-226.328 354.908,-216.25 351.179,-226.167 358.177,-226.328\"/>\r\n",
       "<text text-anchor=\"middle\" x=\"372.175\" y=\"-230.629\" font-family=\"Helvetica,sans-Serif\" font-size=\"14.00\">no</text>\r\n",
       "</g>\r\n",
       "<!-- 3 -->\r\n",
       "<g id=\"node4\" class=\"node\"><title>3</title>\r\n",
       "<path fill=\"#d62728\" stroke=\"black\" d=\"M218,-127C218,-127 131,-127 131,-127 125,-127 119,-121 119,-115 119,-115 119,-86 119,-86 119,-80 125,-74 131,-74 131,-74 218,-74 218,-74 224,-74 230,-80 230,-86 230,-86 230,-115 230,-115 230,-121 224,-127 218,-127\"/>\r\n",
       "<text text-anchor=\"middle\" x=\"174.5\" y=\"-111.8\" font-family=\"Helvetica,sans-Serif\" font-size=\"14.00\">3</text>\r\n",
       "<text text-anchor=\"middle\" x=\"174.5\" y=\"-96.8\" font-family=\"Helvetica,sans-Serif\" font-size=\"14.00\">0&lt;=0.07</text>\r\n",
       "<text text-anchor=\"middle\" x=\"174.5\" y=\"-81.8\" font-family=\"Helvetica,sans-Serif\" font-size=\"14.00\">samples = 222</text>\r\n",
       "</g>\r\n",
       "<!-- 2&#45;&gt;3 -->\r\n",
       "<g id=\"edge3\" class=\"edge\"><title>2&#45;&gt;3</title>\r\n",
       "<path fill=\"none\" stroke=\"black\" d=\"M216.823,-162.868C210.955,-154.359 204.326,-144.747 198.085,-135.698\"/>\r\n",
       "<polygon fill=\"black\" stroke=\"black\" points=\"200.817,-133.495 192.258,-127.25 195.055,-137.469 200.817,-133.495\"/>\r\n",
       "<text text-anchor=\"middle\" x=\"187.742\" y=\"-148.138\" font-family=\"Helvetica,sans-Serif\" font-size=\"14.00\">yes</text>\r\n",
       "</g>\r\n",
       "<!-- 6 -->\r\n",
       "<g id=\"node7\" class=\"node\"><title>6</title>\r\n",
       "<path fill=\"#9467bd\" stroke=\"black\" d=\"M331,-127C331,-127 260,-127 260,-127 254,-127 248,-121 248,-115 248,-115 248,-86 248,-86 248,-80 254,-74 260,-74 260,-74 331,-74 331,-74 337,-74 343,-80 343,-86 343,-86 343,-115 343,-115 343,-121 337,-127 331,-127\"/>\r\n",
       "<text text-anchor=\"middle\" x=\"295.5\" y=\"-111.8\" font-family=\"Helvetica,sans-Serif\" font-size=\"14.00\">6</text>\r\n",
       "<text text-anchor=\"middle\" x=\"295.5\" y=\"-96.8\" font-family=\"Helvetica,sans-Serif\" font-size=\"14.00\">1&lt;=0.44</text>\r\n",
       "<text text-anchor=\"middle\" x=\"295.5\" y=\"-81.8\" font-family=\"Helvetica,sans-Serif\" font-size=\"14.00\">samples = 2</text>\r\n",
       "</g>\r\n",
       "<!-- 2&#45;&gt;6 -->\r\n",
       "<g id=\"edge6\" class=\"edge\"><title>2&#45;&gt;6</title>\r\n",
       "<path fill=\"none\" stroke=\"black\" d=\"M252.472,-162.868C258.438,-154.359 265.177,-144.747 271.522,-135.698\"/>\r\n",
       "<polygon fill=\"black\" stroke=\"black\" points=\"274.57,-137.447 277.446,-127.25 268.839,-133.428 274.57,-137.447\"/>\r\n",
       "<text text-anchor=\"middle\" x=\"281.771\" y=\"-148.173\" font-family=\"Helvetica,sans-Serif\" font-size=\"14.00\">no</text>\r\n",
       "</g>\r\n",
       "<!-- 4 -->\r\n",
       "<g id=\"node5\" class=\"node\"><title>4</title>\r\n",
       "<path fill=\"#ffffff\" stroke=\"black\" d=\"M99,-38C99,-38 12,-38 12,-38 6,-38 0,-32 0,-26 0,-26 0,-12 0,-12 0,-6 6,-0 12,-0 12,-0 99,-0 99,-0 105,-0 111,-6 111,-12 111,-12 111,-26 111,-26 111,-32 105,-38 99,-38\"/>\r\n",
       "<text text-anchor=\"middle\" x=\"55.5\" y=\"-22.8\" font-family=\"Helvetica,sans-Serif\" font-size=\"14.00\">4</text>\r\n",
       "<text text-anchor=\"middle\" x=\"55.5\" y=\"-7.8\" font-family=\"Helvetica,sans-Serif\" font-size=\"14.00\">samples = 218</text>\r\n",
       "</g>\r\n",
       "<!-- 3&#45;&gt;4 -->\r\n",
       "<g id=\"edge4\" class=\"edge\"><title>3&#45;&gt;4</title>\r\n",
       "<path fill=\"none\" stroke=\"black\" d=\"M136.193,-73.9081C121.788,-64.2851 105.478,-53.3888 91.3098,-43.9234\"/>\r\n",
       "<polygon fill=\"black\" stroke=\"black\" points=\"93.0604,-40.8837 82.801,-38.2389 89.1719,-46.7043 93.0604,-40.8837\"/>\r\n",
       "<text text-anchor=\"middle\" x=\"87.6802\" y=\"-59.0582\" font-family=\"Helvetica,sans-Serif\" font-size=\"14.00\">yes</text>\r\n",
       "</g>\r\n",
       "<!-- 5 -->\r\n",
       "<g id=\"node6\" class=\"node\"><title>5</title>\r\n",
       "<path fill=\"#ffffff\" stroke=\"black\" d=\"M212,-38C212,-38 141,-38 141,-38 135,-38 129,-32 129,-26 129,-26 129,-12 129,-12 129,-6 135,-0 141,-0 141,-0 212,-0 212,-0 218,-0 224,-6 224,-12 224,-12 224,-26 224,-26 224,-32 218,-38 212,-38\"/>\r\n",
       "<text text-anchor=\"middle\" x=\"176.5\" y=\"-22.8\" font-family=\"Helvetica,sans-Serif\" font-size=\"14.00\">5</text>\r\n",
       "<text text-anchor=\"middle\" x=\"176.5\" y=\"-7.8\" font-family=\"Helvetica,sans-Serif\" font-size=\"14.00\">samples = 4</text>\r\n",
       "</g>\r\n",
       "<!-- 3&#45;&gt;5 -->\r\n",
       "<g id=\"edge5\" class=\"edge\"><title>3&#45;&gt;5</title>\r\n",
       "<path fill=\"none\" stroke=\"black\" d=\"M175.144,-73.9081C175.349,-65.7377 175.578,-56.6492 175.788,-48.2981\"/>\r\n",
       "<polygon fill=\"black\" stroke=\"black\" points=\"179.288,-48.3238 176.041,-38.2389 172.291,-48.1477 179.288,-48.3238\"/>\r\n",
       "<text text-anchor=\"middle\" x=\"193.269\" y=\"-52.6556\" font-family=\"Helvetica,sans-Serif\" font-size=\"14.00\">no</text>\r\n",
       "</g>\r\n",
       "<!-- 7 -->\r\n",
       "<g id=\"node8\" class=\"node\"><title>7</title>\r\n",
       "<path fill=\"#ffffff\" stroke=\"black\" d=\"M327,-38C327,-38 256,-38 256,-38 250,-38 244,-32 244,-26 244,-26 244,-12 244,-12 244,-6 250,-0 256,-0 256,-0 327,-0 327,-0 333,-0 339,-6 339,-12 339,-12 339,-26 339,-26 339,-32 333,-38 327,-38\"/>\r\n",
       "<text text-anchor=\"middle\" x=\"291.5\" y=\"-22.8\" font-family=\"Helvetica,sans-Serif\" font-size=\"14.00\">7</text>\r\n",
       "<text text-anchor=\"middle\" x=\"291.5\" y=\"-7.8\" font-family=\"Helvetica,sans-Serif\" font-size=\"14.00\">samples = 1</text>\r\n",
       "</g>\r\n",
       "<!-- 6&#45;&gt;7 -->\r\n",
       "<g id=\"edge7\" class=\"edge\"><title>6&#45;&gt;7</title>\r\n",
       "<path fill=\"none\" stroke=\"black\" d=\"M294.212,-73.9081C293.801,-65.7377 293.344,-56.6492 292.924,-48.2981\"/>\r\n",
       "<polygon fill=\"black\" stroke=\"black\" points=\"296.416,-48.0504 292.418,-38.2389 289.425,-48.4022 296.416,-48.0504\"/>\r\n",
       "<text text-anchor=\"middle\" x=\"275.651\" y=\"-53.0826\" font-family=\"Helvetica,sans-Serif\" font-size=\"14.00\">yes</text>\r\n",
       "</g>\r\n",
       "<!-- 8 -->\r\n",
       "<g id=\"node9\" class=\"node\"><title>8</title>\r\n",
       "<path fill=\"#ffffff\" stroke=\"black\" d=\"M440,-38C440,-38 369,-38 369,-38 363,-38 357,-32 357,-26 357,-26 357,-12 357,-12 357,-6 363,-0 369,-0 369,-0 440,-0 440,-0 446,-0 452,-6 452,-12 452,-12 452,-26 452,-26 452,-32 446,-38 440,-38\"/>\r\n",
       "<text text-anchor=\"middle\" x=\"404.5\" y=\"-22.8\" font-family=\"Helvetica,sans-Serif\" font-size=\"14.00\">8</text>\r\n",
       "<text text-anchor=\"middle\" x=\"404.5\" y=\"-7.8\" font-family=\"Helvetica,sans-Serif\" font-size=\"14.00\">samples = 1</text>\r\n",
       "</g>\r\n",
       "<!-- 6&#45;&gt;8 -->\r\n",
       "<g id=\"edge8\" class=\"edge\"><title>6&#45;&gt;8</title>\r\n",
       "<path fill=\"none\" stroke=\"black\" d=\"M330.588,-73.9081C343.658,-64.3759 358.44,-53.5942 371.332,-44.1916\"/>\r\n",
       "<polygon fill=\"black\" stroke=\"black\" points=\"373.476,-46.9595 379.493,-38.2389 369.351,-41.3039 373.476,-46.9595\"/>\r\n",
       "<text text-anchor=\"middle\" x=\"375.628\" y=\"-59.2383\" font-family=\"Helvetica,sans-Serif\" font-size=\"14.00\">no</text>\r\n",
       "</g>\r\n",
       "<!-- 11 -->\r\n",
       "<g id=\"node12\" class=\"node\"><title>11</title>\r\n",
       "<path fill=\"#ffff33\" fill-opacity=\"0.200000\" stroke=\"black\" d=\"M508,-216C508,-216 437,-216 437,-216 431,-216 425,-210 425,-204 425,-204 425,-175 425,-175 425,-169 431,-163 437,-163 437,-163 508,-163 508,-163 514,-163 520,-169 520,-175 520,-175 520,-204 520,-204 520,-210 514,-216 508,-216\"/>\r\n",
       "<text text-anchor=\"middle\" x=\"472.5\" y=\"-200.8\" font-family=\"Helvetica,sans-Serif\" font-size=\"14.00\">11</text>\r\n",
       "<text text-anchor=\"middle\" x=\"472.5\" y=\"-185.8\" font-family=\"Helvetica,sans-Serif\" font-size=\"14.00\">samples = 1</text>\r\n",
       "<text text-anchor=\"middle\" x=\"472.5\" y=\"-170.8\" font-family=\"Helvetica,sans-Serif\" font-size=\"14.00\">Isolated :(</text>\r\n",
       "</g>\r\n",
       "<!-- 10&#45;&gt;11 -->\r\n",
       "<g id=\"edge11\" class=\"edge\"><title>10&#45;&gt;11</title>\r\n",
       "<path fill=\"none\" stroke=\"black\" d=\"M473.911,-251.868C473.727,-243.886 473.521,-234.932 473.325,-226.384\"/>\r\n",
       "<polygon fill=\"black\" stroke=\"black\" points=\"476.821,-226.167 473.092,-216.25 469.823,-226.328 476.821,-226.167\"/>\r\n",
       "<text text-anchor=\"middle\" x=\"455.825\" y=\"-230.629\" font-family=\"Helvetica,sans-Serif\" font-size=\"14.00\">yes</text>\r\n",
       "</g>\r\n",
       "<!-- 12 -->\r\n",
       "<g id=\"node13\" class=\"node\"><title>12</title>\r\n",
       "<path fill=\"#ffff33\" fill-opacity=\"0.200000\" stroke=\"black\" d=\"M621,-216C621,-216 550,-216 550,-216 544,-216 538,-210 538,-204 538,-204 538,-175 538,-175 538,-169 544,-163 550,-163 550,-163 621,-163 621,-163 627,-163 633,-169 633,-175 633,-175 633,-204 633,-204 633,-210 627,-216 621,-216\"/>\r\n",
       "<text text-anchor=\"middle\" x=\"585.5\" y=\"-200.8\" font-family=\"Helvetica,sans-Serif\" font-size=\"14.00\">12</text>\r\n",
       "<text text-anchor=\"middle\" x=\"585.5\" y=\"-185.8\" font-family=\"Helvetica,sans-Serif\" font-size=\"14.00\">samples = 1</text>\r\n",
       "<text text-anchor=\"middle\" x=\"585.5\" y=\"-170.8\" font-family=\"Helvetica,sans-Serif\" font-size=\"14.00\">Isolated :(</text>\r\n",
       "</g>\r\n",
       "<!-- 10&#45;&gt;12 -->\r\n",
       "<g id=\"edge12\" class=\"edge\"><title>10&#45;&gt;12</title>\r\n",
       "<path fill=\"none\" stroke=\"black\" d=\"M507.203,-251.868C518.954,-242.658 532.355,-232.154 544.708,-222.472\"/>\r\n",
       "<polygon fill=\"black\" stroke=\"black\" points=\"546.935,-225.173 552.647,-216.25 542.617,-219.664 546.935,-225.173\"/>\r\n",
       "<text text-anchor=\"middle\" x=\"549.639\" y=\"-237.368\" font-family=\"Helvetica,sans-Serif\" font-size=\"14.00\">no</text>\r\n",
       "</g>\r\n",
       "</g>\r\n",
       "</svg>\r\n"
      ],
      "text/plain": [
       "<graphviz.files.Source at 0x202f652b250>"
      ]
     },
     "execution_count": 60,
     "metadata": {},
     "output_type": "execute_result"
    },
    {
     "data": {
      "image/png": "[encoded data removed]",
      "text/plain": [
       "<Figure size 576x576 with 1 Axes>"
      ]
     },
     "metadata": {
      "needs_background": "light"
     },
     "output_type": "display_data"
    }
   ],
   "source": [
    "t=IsolationTree(max_depth=4)\n",
    "t.fit(X_sub)\n",
    "\n",
    "painter = IsolationTreePainter2D()\n",
    "plt.figure(figsize=(8, 8))\n",
    "plt.scatter(X_sub[:,0], X_sub[:,1])\n",
    "plt.xlim([0,1])\n",
    "plt.ylim([0,1])\n",
    "painter.draw_split(t.tree)\n",
    "\n",
    "dot_data=painter.get_tree_dot_data(t)\n",
    "#dot_data=t.get_dot_data()\n",
    "graph = graphviz.Source(dot_data) \n",
    "#graph.render('./data/my_dt', format='png')\n",
    "graph"
   ]
  },
  {
   "cell_type": "code",
   "execution_count": 61,
   "metadata": {},
   "outputs": [],
   "source": [
    "class IsolationForest(object):\n",
    "    n_estimators=100\n",
    "    threshold=0.0\n",
    "    trees=[]\n",
    "    lengths=[]\n",
    "    \n",
    "    def __init__(self, n_estimators=100):\n",
    "        self.n_estimators=n_estimators\n",
    "        self.trees=[]\n",
    "        pass\n",
    "    \n",
    "    def fit(self, X):\n",
    "        n_samples = X.shape[0]\n",
    "        self.trees=[]\n",
    "        for i in range(self.n_estimators):\n",
    "            # according to the paper the best #subsamples is 256 and the depth is log(#subsamples) = 8\n",
    "            # and the suggested number of trees is 100\n",
    "            mask = np.random.choice([False, True], X.shape[0], p=[1-256/n_samples, 256/n_samples])\n",
    "            X_sub = X[mask]\n",
    "            it = IsolationTree(max_depth=8)\n",
    "            it.fit(X_sub)\n",
    "            self.trees.append(it)\n",
    "\n",
    "        results=np.zeros((X.shape[0]))\n",
    "        for i in range(self.n_estimators):\n",
    "            y=self.trees[i].predict(X)\n",
    "            results=results+y\n",
    "        results=results/self.n_estimators\n",
    "        self.lengths=np.array(results)\n",
    "        self.threshold=np.percentile(results, 1)\n",
    "\n",
    "        \n",
    "    def decision_function(self, X):\n",
    "        results=np.zeros((X.shape[0]))\n",
    "        for i in range(self.n_estimators):\n",
    "            y=self.trees[i].predict(X)\n",
    "            results=results+y\n",
    "        results=results/self.n_estimators\n",
    "        #self.lengths=np.array(results)\n",
    "        return results\n",
    "\n",
    "    \n",
    "    def predict(self, X):\n",
    "        results=self.decision_function(X)\n",
    "        return results<self.threshold"
   ]
  },
  {
   "cell_type": "code",
   "execution_count": 62,
   "metadata": {},
   "outputs": [],
   "source": [
    "iforest=IsolationForest()\n",
    "iforest.fit(X)"
   ]
  },
  {
   "cell_type": "code",
   "execution_count": 63,
   "metadata": {},
   "outputs": [],
   "source": [
    "anomaly_labels=iforest.predict(X)"
   ]
  },
  {
   "cell_type": "code",
   "execution_count": 64,
   "metadata": {},
   "outputs": [],
   "source": [
    "xx , yy = np.meshgrid(np.linspace(0, 1, 100), np.linspace(0, 1, 100))\n",
    "X_mash = np.c_[xx.ravel(), yy.ravel()]\n",
    "Z=iforest.decision_function(X_mash)\n",
    "#Z = decision_function(X_mash, labels_mash)*-1\n",
    "Z = Z.reshape(xx.shape)"
   ]
  },
  {
   "cell_type": "code",
   "execution_count": 65,
   "metadata": {},
   "outputs": [
    {
     "data": {
      "image/png": "[encoded data removed]",
      "text/plain": [
       "<Figure size 576x576 with 1 Axes>"
      ]
     },
     "metadata": {
      "needs_background": "light"
     },
     "output_type": "display_data"
    }
   ],
   "source": [
    "\n",
    "\n",
    "plt.figure(figsize=(8, 8))\n",
    "plt.contourf(xx, yy, Z, levels=np.linspace(Z.min(), iforest.threshold, 7),cmap=plt.cm.Blues_r)\n",
    "plt.contourf(xx, yy, Z, levels=[iforest.threshold, Z.max(), ],colors='orange')\n",
    "a=plt.contour(xx, yy, Z, levels=[iforest.threshold],linewidths=2, colors='red')\n",
    "b=plt.scatter(x1[anomaly_labels==0], x2[anomaly_labels==0], c='white', s=20, edgecolor='k', label='Normal')\n",
    "c=plt.scatter(x1[anomaly_labels==1], x2[anomaly_labels==1], c='black', s=20, label='Anormaly')\n",
    "plt.legend([a.collections[0], b,c], ['decision function', 'inliers','outliers'],\n",
    "           prop=matplotlib.font_manager.FontProperties(size=20),loc='lower right') \n",
    "plt.xlim((0, 1))\n",
    "plt.ylim((0, 1))\n",
    "plt.title('Isolation Forest')\n",
    "plt.show()"
   ]
  },
  {
   "cell_type": "markdown",
   "metadata": {},
   "source": [
    "# Isolation Score\n",
    "\n",
    "$$H(n)=ln(n) + 0.5772156649$$\n",
    "$$c(n) = 2H(n − 1) − (2(n − 1)/n)$$\n",
    "\n",
    "Here 0.5772156649 is eular's constant. H(n) is harmonic number. and c is average length give the max length(n)."
   ]
  },
  {
   "cell_type": "code",
   "execution_count": 88,
   "metadata": {},
   "outputs": [],
   "source": [
    "EULARS_CONSTANT=0.5772156649\n",
    "def get_harmonic_number(n):\n",
    "    return np.log(n)+EULARS_CONSTANT\n",
    "\n",
    "def get_average_length(n):\n",
    "    harmonic_number=np.log(n)+EULARS_CONSTANT\n",
    "    return 2*get_harmonic_number(n-1) - (2*(n-1)/n)"
   ]
  },
  {
   "cell_type": "code",
   "execution_count": 114,
   "metadata": {},
   "outputs": [
    {
     "data": {
      "text/plain": [
       "10.244770920116851"
      ]
     },
     "execution_count": 114,
     "metadata": {},
     "output_type": "execute_result"
    }
   ],
   "source": [
    "get_average_length(256)"
   ]
  },
  {
   "cell_type": "code",
   "execution_count": 113,
   "metadata": {},
   "outputs": [
    {
     "data": {
      "text/plain": [
       "3.2962516279106264"
      ]
     },
     "execution_count": 113,
     "metadata": {},
     "output_type": "execute_result"
    }
   ],
   "source": [
    "c8=get_average_length(8)\n",
    "c8"
   ]
  },
  {
   "cell_type": "code",
   "execution_count": 90,
   "metadata": {},
   "outputs": [],
   "source": [
    "def get_score(path_length):\n",
    "    return 2**-(path_length/c8)"
   ]
  },
  {
   "cell_type": "code",
   "execution_count": 111,
   "metadata": {},
   "outputs": [
    {
     "data": {
      "text/html": [
       "<div>\n",
       "<style scoped>\n",
       "    .dataframe tbody tr th:only-of-type {\n",
       "        vertical-align: middle;\n",
       "    }\n",
       "\n",
       "    .dataframe tbody tr th {\n",
       "        vertical-align: top;\n",
       "    }\n",
       "\n",
       "    .dataframe thead th {\n",
       "        text-align: right;\n",
       "    }\n",
       "</style>\n",
       "<table border=\"1\" class=\"dataframe\">\n",
       "  <thead>\n",
       "    <tr style=\"text-align: right;\">\n",
       "      <th></th>\n",
       "      <th>average length(E)</th>\n",
       "      <th>score</th>\n",
       "    </tr>\n",
       "  </thead>\n",
       "  <tbody>\n",
       "    <tr>\n",
       "      <th>0</th>\n",
       "      <td>1</td>\n",
       "      <td>0.810355</td>\n",
       "    </tr>\n",
       "    <tr>\n",
       "      <th>1</th>\n",
       "      <td>2</td>\n",
       "      <td>0.656674</td>\n",
       "    </tr>\n",
       "    <tr>\n",
       "      <th>2</th>\n",
       "      <td>3</td>\n",
       "      <td>0.532139</td>\n",
       "    </tr>\n",
       "    <tr>\n",
       "      <th>3</th>\n",
       "      <td>4</td>\n",
       "      <td>0.431221</td>\n",
       "    </tr>\n",
       "    <tr>\n",
       "      <th>4</th>\n",
       "      <td>5</td>\n",
       "      <td>0.349442</td>\n",
       "    </tr>\n",
       "    <tr>\n",
       "      <th>5</th>\n",
       "      <td>6</td>\n",
       "      <td>0.283172</td>\n",
       "    </tr>\n",
       "    <tr>\n",
       "      <th>6</th>\n",
       "      <td>7</td>\n",
       "      <td>0.229470</td>\n",
       "    </tr>\n",
       "    <tr>\n",
       "      <th>7</th>\n",
       "      <td>8</td>\n",
       "      <td>0.185952</td>\n",
       "    </tr>\n",
       "  </tbody>\n",
       "</table>\n",
       "</div>"
      ],
      "text/plain": [
       "   average length(E)     score\n",
       "0                  1  0.810355\n",
       "1                  2  0.656674\n",
       "2                  3  0.532139\n",
       "3                  4  0.431221\n",
       "4                  5  0.349442\n",
       "5                  6  0.283172\n",
       "6                  7  0.229470\n",
       "7                  8  0.185952"
      ]
     },
     "execution_count": 111,
     "metadata": {},
     "output_type": "execute_result"
    }
   ],
   "source": [
    "df_score = pd.DataFrame()\n",
    "df_score['average length(E)'] = [1, 2, 3,4,5,6,7,8]\n",
    "scores=[]\n",
    "for i in range(1, 9):\n",
    "    #print(f'score will be {2**-(i/3.2962516279106264):0.2f} if average_length={i}')\n",
    "    scores.append(2**-(i/3.2962516279106264))\n",
    "df_score['score']=scores\n",
    "df_score"
   ]
  },
  {
   "cell_type": "code",
   "execution_count": null,
   "metadata": {},
   "outputs": [],
   "source": []
  },
  {
   "cell_type": "code",
   "execution_count": null,
   "metadata": {},
   "outputs": [],
   "source": []
  },
  {
   "cell_type": "code",
   "execution_count": null,
   "metadata": {},
   "outputs": [],
   "source": []
  }
 ],
 "metadata": {
  "kernelspec": {
   "display_name": "Python 3",
   "language": "python",
   "name": "python3"
  },
  "language_info": {
   "codemirror_mode": {
    "name": "ipython",
    "version": 3
   },
   "file_extension": ".py",
   "mimetype": "text/x-python",
   "name": "python",
   "nbconvert_exporter": "python",
   "pygments_lexer": "ipython3",
   "version": "3.8.3"
  }
 },
 "nbformat": 4,
 "nbformat_minor": 4
}
