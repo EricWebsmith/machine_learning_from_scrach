{
 "cells": [
  {
   "cell_type": "markdown",
   "metadata": {},
   "source": [
    "# Medoid Radius\n",
    "\n",
    "Medoid Radius is a cluster algorithm that I use in one of my projects. I did not find not cluster algorithm suitable for my case such that I proposed this novel algorithm.\n",
    "\n",
    "My case is like that, each data point is a shape, I managed to find a way to measure the distance matrix for the shapes. Another requirement is that we only cluster data points that are very similar together. Data points without a near neighbor are discarded.\n",
    "\n",
    "\n",
    "## Example\n",
    "Suppose we have the following RNA sequences.\n",
    "\n",
    "![](medoid_radius/rna_123.jpg)\n",
    "![](medoid_radius/rna_456.jpg)\n",
    "\n",
    "We number them from 0 to 5, and the distance matrix is as follow:\n",
    "\n"
   ]
  },
  {
   "cell_type": "code",
   "execution_count": 25,
   "metadata": {},
   "outputs": [
    {
     "data": {
      "image/png": "[encoded data removed]",
      "text/plain": [
       "<Figure size 432x288 with 2 Axes>"
      ]
     },
     "metadata": {
      "needs_background": "light"
     },
     "output_type": "display_data"
    }
   ],
   "source": [
    "import numpy as np\n",
    "from matplotlib import pyplot as plt\n",
    "%matplotlib inline\n",
    "import seaborn as sns\n",
    "\n",
    "D=np.array([\n",
    "    [0.0, 0.1, 0.5, 0.5, 0.8, 0.8],\n",
    "    [0.1, 0.0, 0.6, 0.6, 0.8, 0.8],\n",
    "    [0.5, 0.6, 0.0, 0.1, 0.7, 0.7],\n",
    "    [0.5, 0.6, 0.1, 0.0, 0.7, 0.7],\n",
    "    [0.8, 0.8, 0.7, 0.7, 0.0, 0.3],\n",
    "    [0.8, 0.8, 0.7, 0.7, 0.3, 0.0]])\n",
    "\n",
    "sns.heatmap(D)\n",
    "plt.show()"
   ]
  },
  {
   "cell_type": "markdown",
   "metadata": {},
   "source": [
    "Here, we have two clusters, (0, 1) and (2, 3). 4 and 5 are not similar enough that they can be grouped together, neither are they similar to the rest RNAs. Thus, 4 and 5 are to be discarded."
   ]
  },
  {
   "cell_type": "markdown",
   "metadata": {},
   "source": [
    "Steps:\n",
    "\n",
    "Input: Distance Matrix $D$, radius $r$\n",
    "\n",
    "Step 1: Find the largest cluster $C$, with points $(k, l, ...)$. If no cluster is found, quit.\n",
    "  * Scan every row $i$ in $D$, Select a row $i$ with the most satisfied data points($d_{ij}<r$)\n",
    "  * $d_{ij}$ denotes distance between Data Point $i$ and $j$\n",
    "  \n",
    "$$\n",
    "\\underset {i}{\\operatorname{argmax}} \\sum_{j=0}^{n} (d_{ij}<r), (d_{ij}<r\\ =\\ 1\\ if\\ true, 0\\ if\\ false)\n",
    "$$\n",
    "\n",
    "Step 2: Find the medoid, by calculating the summation distance from every data point to other data points in the cluster.\n",
    "  * Find data point $m$ that minimize the summation of distances from point $i$ to other points (denoted as $j$) within the cluster.\n",
    "$$\n",
    "m=\\underset {k \\in C}{ \\operatorname{argmin}} \\sum_{k\\neq l, l \\in C}^{}d_{kl}\n",
    "$$\n",
    "\n",
    "\n",
    "\n",
    "Step 3: Rescan every data point in row $m$ . Data points satisfies $d_{mj}<r$ are selected.\n",
    "\n",
    "Step 4: Repeat Step 2 and 3, until the cluster numbers are fixed. Update labels. \n",
    "  * For $(i, j, k ...)$ in cluster $C$ and medoid $m$, Set $label(i)=m$.\n",
    "\n",
    "Step 5: Goto Step 1."
   ]
  },
  {
   "cell_type": "code",
   "execution_count": 15,
   "metadata": {},
   "outputs": [],
   "source": [
    "import numpy as np\n",
    "\n",
    "class MedoidRadius(object):\n",
    "    distance_matrix_ = None\n",
    "    n_samples=0\n",
    "    labels_ = []\n",
    "    medoids_ = []\n",
    "    \n",
    "    #select\n",
    "    def __select_medoid(self, mask_row):\n",
    "        members=mask_row.argsort()[-mask_row.sum():]\n",
    "        n_members=len(members)\n",
    "        distances=np.zeros((n_members))\n",
    "        index=0\n",
    "        for member in members:\n",
    "            \n",
    "            distance = sum(self.matrix_distances_[member] * mask_row)/sum(mask_row)\n",
    "            distances[index] = distance\n",
    "            index+=1\n",
    "\n",
    "        return members[distances.argmin()]\n",
    "    \n",
    "    def fit(self, distance_matrix, radius, mask=None):\n",
    "        self.matrix_distances_=distance_matrix\n",
    "        self.n_samples=distance_matrix.shape[0]\n",
    "        self.labels_=np.array(range(0,self.n_samples))\n",
    "        \n",
    "        self.medoids_ = []\n",
    "        #here we use a mask to cache if the distance is less than radius,\n",
    "        #thus we don't have to compare them all them time.\n",
    "        if not mask:\n",
    "            mask = distance_matrix<radius\n",
    "            mask = mask * 1\n",
    "        while True:\n",
    "            mask_row_sum = mask.sum(axis=0)\n",
    "            if sum(mask_row_sum)<=1:\n",
    "                break\n",
    "            #candidate\n",
    "            old_medoid = mask_row_sum.argmax()\n",
    "            old_mask_row=mask[old_medoid]\n",
    "            if old_mask_row.shape[0]==2:\n",
    "                return\n",
    "            new_medoid=self.__select_medoid(old_mask_row)\n",
    "\n",
    "            new_mask_row=mask[new_medoid]\n",
    "\n",
    "            while (old_medoid!=new_medoid) \\\n",
    "                and (old_mask_row==new_mask_row).all() \\\n",
    "                and (sum(new_mask_row)>0):\n",
    "                old_medoid=new_medoid\n",
    "                old_mask_row=new_mask_row\n",
    "                new_medoid=self.__select_medoid(new_mask_row)\n",
    "                new_mask_row=mask[new_medoid]\n",
    "                if sum(new_mask_row)==0:\n",
    "                    break\n",
    "\n",
    "            members=new_mask_row.argsort()[-new_mask_row.sum():]\n",
    "            if len(members)>1:\n",
    "                self.medoids_.append(new_medoid)\n",
    "                self.labels_[members]=new_medoid\n",
    "            mask[members]=0\n",
    "            mask[:,members]=0"
   ]
  },
  {
   "cell_type": "code",
   "execution_count": 16,
   "metadata": {},
   "outputs": [],
   "source": [
    "mr=MedoidRadius()"
   ]
  },
  {
   "cell_type": "code",
   "execution_count": 21,
   "metadata": {},
   "outputs": [],
   "source": [
    "mr.fit(distance_matrix, 0.15)"
   ]
  },
  {
   "cell_type": "code",
   "execution_count": 22,
   "metadata": {},
   "outputs": [
    {
     "data": {
      "text/plain": [
       "array([0, 0, 2, 2, 4, 5])"
      ]
     },
     "execution_count": 22,
     "metadata": {},
     "output_type": "execute_result"
    }
   ],
   "source": [
    "mr.labels_"
   ]
  },
  {
   "cell_type": "code",
   "execution_count": null,
   "metadata": {},
   "outputs": [],
   "source": []
  }
 ],
 "metadata": {
  "kernelspec": {
   "display_name": "Python 3",
   "language": "python",
   "name": "python3"
  },
  "language_info": {
   "codemirror_mode": {
    "name": "ipython",
    "version": 3
   },
   "file_extension": ".py",
   "mimetype": "text/x-python",
   "name": "python",
   "nbconvert_exporter": "python",
   "pygments_lexer": "ipython3",
   "version": "3.8.3"
  }
 },
 "nbformat": 4,
 "nbformat_minor": 4
}
